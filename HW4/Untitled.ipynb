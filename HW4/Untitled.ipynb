{
 "cells": [
  {
   "cell_type": "code",
   "execution_count": 101,
   "metadata": {
    "collapsed": true
   },
   "outputs": [],
   "source": [
    "import numpy as np\n",
    "import pandas as pd\n",
    "import datetime\n",
    "from matplotlib import pyplot as plt"
   ]
  },
  {
   "cell_type": "code",
   "execution_count": 80,
   "metadata": {
    "collapsed": true
   },
   "outputs": [],
   "source": [
    "def pre_processing(filename):\n",
    "    file_2g = pd.read_csv(filename).loc[:,['MRTime','RNCID_1', 'CellID_1','EcNo_1', 'RSCP_1', 'RNCID_2', 'CellID_2','EcNo_2', 'RSCP_2','RNCID_3', 'CellID_3','EcNo_3', 'RSCP_3', 'RNCID_4', 'CellID_4','EcNo_4', 'RSCP_4', 'RNCID_5', 'CellID_5','EcNo_5', 'RSCP_5', 'RNCID_6', 'CellID_6','EcNo_6', 'RSCP_6','Grid_ID']]\n",
    "    gong_can = pd.read_csv(\"final_2g_gongcan.csv\", encoding='gbk').loc[:,['CGI', 'LAC', 'CI', u'经度', u'纬度']]\n",
    "    # merge_data = pd.merge(file_2g, gong_can, left_on=['RNCID_1','CellID_1'], right_on=['LAC','CI'], how='inner')[['MRTime','EcNo_1', 'RSCP_1', 'CGI', u'经度', u'纬度', 'Grid_ID']]\n",
    "\n",
    "    for i in range(6):\n",
    "        RNCID = \"RNCID_\" + str(i+1)\n",
    "        CellID = \"CellID_\" + str(i+1)\n",
    "        station = pd.merge(file_2g, gong_can, left_on=[RNCID, CellID], right_on=['LAC','CI'], how='inner')[['CGI']]\n",
    "        file_2g[[str(i+1)+'station']] = station\n",
    "        file_2g['RSSI'+str(i+1)] = file_2g['EcNo_' + str(i+1)] - file_2g['RSCP_' + str(i+1)]\n",
    "\n",
    "    merge_data = file_2g\n",
    "    \n",
    "    merge_data['MRTime'] = merge_data['MRTime'].str.split()\n",
    "    timeCol = pd.Series(map(lambda x:x[1],merge_data['MRTime']),index=merge_data.index)\n",
    "    timeCol = pd.to_datetime(timeCol,format=\"%H:%M:%S.%f\")\n",
    "    merge_data['MRTime'] = timeCol\n",
    "    \n",
    "    #merge_data = merge_data.sort_values(by=['MRTime'])\n",
    "    \n",
    "    for i in range(1,7):\n",
    "        del merge_data['EcNo_' + str(i)],merge_data['RSCP_' + str(i)]\n",
    "        \n",
    "    for i in range(1,7):\n",
    "        del merge_data['RNCID_' + str(i)],merge_data['CellID_' + str(i)]\n",
    "        \n",
    "    return merge_data"
   ]
  },
  {
   "cell_type": "code",
   "execution_count": 102,
   "metadata": {},
   "outputs": [
    {
     "data": {
      "text/plain": [
       "[<matplotlib.lines.Line2D at 0x7fcca2a73c10>]"
      ]
     },
     "execution_count": 102,
     "metadata": {},
     "output_type": "execute_result"
    }
   ],
   "source": [
    "#所有时间数据\n",
    "time = pre_processing('final_2g_tr.csv')[['MRTime']]\n",
    "time_delt = time[['MRTime']].diff()\n",
    "#去掉Nan并且排序\n",
    "time_delt = time_delt.dropna(axis=0).sort_values(by=['MRTime'])\n",
    "plt.plot(time_delt.values[:,0].tolist())"
   ]
  },
  {
   "cell_type": "code",
   "execution_count": 103,
   "metadata": {},
   "outputs": [
    {
     "data": {
      "image/png": "[encoded data removed]",
      "text/plain": [
       "<matplotlib.figure.Figure at 0x7fcca2c36690>"
      ]
     },
     "metadata": {},
     "output_type": "display_data"
    }
   ],
   "source": [
    "plt.show()"
   ]
  },
  {
   "cell_type": "code",
   "execution_count": null,
   "metadata": {
    "collapsed": true
   },
   "outputs": [],
   "source": []
  }
 ],
 "metadata": {
  "kernelspec": {
   "display_name": "Python 2",
   "language": "python",
   "name": "python2"
  },
  "language_info": {
   "codemirror_mode": {
    "name": "ipython",
    "version": 2
   },
   "file_extension": ".py",
   "mimetype": "text/x-python",
   "name": "python",
   "nbconvert_exporter": "python",
   "pygments_lexer": "ipython2",
   "version": "2.7.13"
  }
 },
 "nbformat": 4,
 "nbformat_minor": 2
}
